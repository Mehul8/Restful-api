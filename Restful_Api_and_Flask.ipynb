{
  "nbformat": 4,
  "nbformat_minor": 0,
  "metadata": {
    "colab": {
      "provenance": []
    },
    "kernelspec": {
      "name": "python3",
      "display_name": "Python 3"
    },
    "language_info": {
      "name": "python"
    }
  },
  "cells": [
    {
      "cell_type": "markdown",
      "source": [
        "#Restful API & Flask\n",
        "#Que1 What is a RESTful Api\n",
        "A RESTful API is a web service that uses standard HTTP methods to access and manage resources identified by URLs, often returning data in JSON format.\n",
        "\n",
        "#Que 2 Explain the concept of API specification\n",
        "An API specification defines how an API behaves, including its endpoints, request/response formats, parameters, and authentication rules, usually documented in a format like OpenAPI.\n",
        "\n",
        "#Que 3 What is Flask, and why is it popular for building\n",
        "Flask is a lightweight Python web framework that's popular for building APIs due to its simplicity, flexibility, and minimal setup requirements.\n",
        "\n",
        "#Que 4 What is routing in\n",
        "Routing in Flask maps URLs to functions, so when a user visits a URL, Flask knows which function to run.\n",
        "\n",
        "#que 5 How do you create a simple Flask application\n",
        "Install Flask, then write a Python file like this:from flask import Flask\n",
        "app = Flask(__name__)\n",
        "\n",
        "@app.route('/')\n",
        "def home():\n",
        "    return 'Hello, world!'\n",
        "\n",
        "if __name__ == '__main__':\n",
        "    app.run()\n",
        "\n",
        "#Que 6 M What are HTTP methods used in RESTful APIs\n",
        "The main HTTP methods are GET, POST, PUT, PATCH, and DELETE.\n",
        "\n",
        "\n",
        "#Que 7 What is the purpose of the @app.route() decorator in Flask\n",
        "`@app.route()` tells Flask which URL should trigger a specific function.\n",
        "\n",
        "#Que 8What is the difference between GET and POST HTTP methods\n",
        "GET retrieves data; POST sends data to create or update a resource.\n",
        "\n",
        "#Que 9 M How do you handle errors in Flask APIs\n",
        "Use `@app.errorhandler` decorators or return custom error responses with status codes.\n",
        "\n",
        "#que 10 M How do you connect Flask to a SQL database\n",
        "Use an ORM like SQLAlchemy to connect Flask to a SQL database by defining models and querying the database.\n",
        "\n",
        "#Que 11  What is the role of Flask-SQLAlchemy\n",
        "Flask-SQLAlchemy simplifies database integration in Flask by providing an easy-to-use ORM for interacting with SQL databases.\n",
        "\n",
        "#Que 12 What are Flask blueprints, and how are they useful\n",
        "Flask blueprints allow you to organize and modularize your application into reusable components, making it easier to manage large applications.\n",
        "\n",
        "#Que 13 What is the purpose of Flask's request object\n",
        "Flask's `request` object is used to access data sent in an HTTP request, such as form data, query parameters, or JSON payloads.\n",
        "\n",
        "#Que 14  How do you create a RESTful API endpoint using Flask\n",
        "Define a route with the @app.route() decorator, specify the HTTP method, and return a response. Example:\n",
        "\n",
        "@app.route('/api/resource', methods=['GET'])\n",
        "def get_resource():\n",
        "    return {'message': 'Resource data'}, 200\n",
        "\n",
        "#Que 15  What is the purpose of Flask's jsonify() function\n",
        "`jsonify()` converts Python data (like dictionaries) into a JSON response, ensuring correct content-type and formatting.\n",
        "\n",
        "#Que 16 M Explain Flask’s url_for() function\n",
        "`url_for()` generates a URL for a given function based on its name, helping avoid hardcoded URLs.\n",
        "\n",
        "#Que 17 M How does Flask handle static files (CSS, JavaScript, etc.)\n",
        "Flask serves static files from a folder named `static` by default, accessible through URLs like `/static/<filename>`.\n",
        "\n",
        "#Que 18 What is an API specification, and how does it help in building a Flask APi\n",
        "An API specification defines the structure, endpoints, request/response formats, and behavior of an API. It helps in building Flask APIs by providing clear guidelines for implementation and ensuring consistency.\n",
        "\n",
        "#Que 19 What are HTTP status codes, and why are they important in a Flask API\n",
        "HTTP status codes indicate the outcome of an API request. They help clients understand if the request was successful (e.g., 200 OK) or if there was an error (e.g., 404 Not Found, 500 Internal Server Error).\n",
        "\n",
        "#Que 20 How do you handle POST requests in Flask\n",
        "Use @app.route() with methods=['POST'] and access request data via request.form or request.json. Example:\n",
        "@app.route('/api', methods=['POST'])\n",
        "def create_item():\n",
        "    data = request.get_json()\n",
        "    return {'message': 'Item created', 'data': data}, 201\n",
        "\n",
        "#Que 21How would you secure a Flask API\n",
        "Secure a Flask API by using authentication (like JWT tokens), HTTPS, input validation, and limiting access with roles or permissions.\n",
        "\n",
        "#Que 22 What is the significance of the Flask-RESTful extension\n",
        "Flask-RESTful simplifies the creation of REST APIs in Flask by providing tools for handling HTTP methods, parsing input, and formatting responses.\n",
        "\n",
        "#Que 23 What is the role of Flask’s session object\n",
        "Flask's `session` object stores data across requests for a user, typically used for managing user sessions (like login states), and is stored securely on the client-side.\n"
      ],
      "metadata": {
        "id": "TtS8GR1433zR"
      }
    },
    {
      "cell_type": "code",
      "execution_count": 1,
      "metadata": {
        "colab": {
          "base_uri": "https://localhost:8080/"
        },
        "id": "a43k7YQX3vji",
        "outputId": "96efa9e9-1ecc-4717-e22d-cb116443635c"
      },
      "outputs": [
        {
          "output_type": "stream",
          "name": "stdout",
          "text": [
            " * Serving Flask app '__main__'\n",
            " * Debug mode: on\n"
          ]
        },
        {
          "output_type": "stream",
          "name": "stderr",
          "text": [
            "INFO:werkzeug:\u001b[31m\u001b[1mWARNING: This is a development server. Do not use it in a production deployment. Use a production WSGI server instead.\u001b[0m\n",
            " * Running on http://127.0.0.1:5000\n",
            "INFO:werkzeug:\u001b[33mPress CTRL+C to quit\u001b[0m\n",
            "INFO:werkzeug: * Restarting with stat\n"
          ]
        }
      ],
      "source": [
        "#Que 1 How do you create a basic Flask application\n",
        "from flask import Flask\n",
        "\n",
        "app = Flask(__name__)\n",
        "\n",
        "@app.route('/')\n",
        "def home():\n",
        "    return 'Hello, World!'\n",
        "\n",
        "if __name__ == '__main__':\n",
        "    app.run(debug=True)\n"
      ]
    },
    {
      "cell_type": "code",
      "source": [
        "#Que 2 How do you serve static files like images or CSS in Flask\n",
        "from flask import Flask, render_template\n",
        "\n",
        "app = Flask(__name__)\n",
        "\n",
        "@app.route('/')\n",
        "def home():\n",
        "    return render_template('index.html')\n",
        "\n",
        "if __name__ == '__main__':\n",
        "    app.run(debug=True)\n"
      ],
      "metadata": {
        "colab": {
          "base_uri": "https://localhost:8080/"
        },
        "id": "li_iEDCn_Ep8",
        "outputId": "916278ff-c494-4cb9-a0cf-7ee012c0a165"
      },
      "execution_count": 2,
      "outputs": [
        {
          "output_type": "stream",
          "name": "stdout",
          "text": [
            " * Serving Flask app '__main__'\n",
            " * Debug mode: on\n"
          ]
        },
        {
          "output_type": "stream",
          "name": "stderr",
          "text": [
            "INFO:werkzeug:\u001b[31m\u001b[1mWARNING: This is a development server. Do not use it in a production deployment. Use a production WSGI server instead.\u001b[0m\n",
            " * Running on http://127.0.0.1:5000\n",
            "INFO:werkzeug:\u001b[33mPress CTRL+C to quit\u001b[0m\n",
            "INFO:werkzeug: * Restarting with stat\n"
          ]
        }
      ]
    },
    {
      "cell_type": "code",
      "source": [
        "#Que 3M How do you define different routes with different HTTP methods in Flask\n",
        "\n",
        "from flask import Flask, request\n",
        "\n",
        "app = Flask(__name__)\n",
        "\n",
        "@app.route('/api', methods=['GET'])\n",
        "def get_data():\n",
        "    return {'message': 'GET request received'}, 200\n",
        "\n",
        "@app.route('/api', methods=['POST'])\n",
        "def create_data():\n",
        "    data = request.get_json()\n",
        "    return {'message': 'POST request received', 'data': data}, 201\n",
        "\n",
        "@app.route('/api', methods=['PUT'])\n",
        "def update_data():\n",
        "    data = request.get_json()\n",
        "    return {'message': 'PUT request received', 'data': data}, 200\n",
        "\n",
        "@app.route('/api', methods=['DELETE'])\n",
        "def delete_data():\n",
        "    return {'message': 'DELETE request received'}, 200\n",
        "\n",
        "if __name__ == '__main__':\n",
        "    app.run(debug=True)\n"
      ],
      "metadata": {
        "colab": {
          "base_uri": "https://localhost:8080/"
        },
        "id": "ZyIO7UU5B7c5",
        "outputId": "3876164d-741c-4957-8a0d-de862d756551"
      },
      "execution_count": 5,
      "outputs": [
        {
          "output_type": "stream",
          "name": "stdout",
          "text": [
            " * Serving Flask app '__main__'\n",
            " * Debug mode: on\n"
          ]
        },
        {
          "output_type": "stream",
          "name": "stderr",
          "text": [
            "INFO:werkzeug:\u001b[31m\u001b[1mWARNING: This is a development server. Do not use it in a production deployment. Use a production WSGI server instead.\u001b[0m\n",
            " * Running on http://127.0.0.1:5000\n",
            "INFO:werkzeug:\u001b[33mPress CTRL+C to quit\u001b[0m\n",
            "INFO:werkzeug: * Restarting with stat\n"
          ]
        }
      ]
    },
    {
      "cell_type": "code",
      "source": [
        "#Que 4  How do you render HTML templates in Flask\n",
        "from flask import Flask, render_template\n",
        "\n",
        "app = Flask(__name__)\n",
        "\n",
        "@app.route('/')\n",
        "def home():\n",
        "    return render_template('index.html')\n",
        "\n",
        "if __name__ == '__main__':\n",
        "    app.run(debug=True)"
      ],
      "metadata": {
        "colab": {
          "base_uri": "https://localhost:8080/"
        },
        "id": "J5Dc5IDNB7Zf",
        "outputId": "ead5d4b0-32ff-4d10-d43d-ce737740d708"
      },
      "execution_count": 6,
      "outputs": [
        {
          "output_type": "stream",
          "name": "stdout",
          "text": [
            " * Serving Flask app '__main__'\n",
            " * Debug mode: on\n"
          ]
        },
        {
          "output_type": "stream",
          "name": "stderr",
          "text": [
            "INFO:werkzeug:\u001b[31m\u001b[1mWARNING: This is a development server. Do not use it in a production deployment. Use a production WSGI server instead.\u001b[0m\n",
            " * Running on http://127.0.0.1:5000\n",
            "INFO:werkzeug:\u001b[33mPress CTRL+C to quit\u001b[0m\n",
            "INFO:werkzeug: * Restarting with stat\n"
          ]
        }
      ]
    },
    {
      "cell_type": "code",
      "source": [
        "#Que 5 How can you generate URLs for routes in Flask using url_for\n",
        "from flask import Flask, url_for\n",
        "\n",
        "app = Flask(__name__)\n",
        "\n",
        "@app.route('/')\n",
        "def home():\n",
        "    return 'Home Page'\n",
        "\n",
        "@app.route('/about')\n",
        "def about():\n",
        "    return 'About Page'\n",
        "\n",
        "@app.route('/generate_url')\n",
        "def generate_url():\n",
        "    home_url = url_for('home')\n",
        "    about_url = url_for('about')\n",
        "    return f\"Home URL: {home_url}, About URL: {about_url}\"\n",
        "\n",
        "if __name__ == '__main__':\n",
        "    app.run(debug=True)\n"
      ],
      "metadata": {
        "colab": {
          "base_uri": "https://localhost:8080/"
        },
        "id": "cC-zg460B7WO",
        "outputId": "b5f78e43-17d3-46d3-fa3a-d654b2307984"
      },
      "execution_count": 7,
      "outputs": [
        {
          "output_type": "stream",
          "name": "stdout",
          "text": [
            " * Serving Flask app '__main__'\n",
            " * Debug mode: on\n"
          ]
        },
        {
          "output_type": "stream",
          "name": "stderr",
          "text": [
            "INFO:werkzeug:\u001b[31m\u001b[1mWARNING: This is a development server. Do not use it in a production deployment. Use a production WSGI server instead.\u001b[0m\n",
            " * Running on http://127.0.0.1:5000\n",
            "INFO:werkzeug:\u001b[33mPress CTRL+C to quit\u001b[0m\n",
            "INFO:werkzeug: * Restarting with stat\n"
          ]
        }
      ]
    },
    {
      "cell_type": "code",
      "source": [
        "#Que 6  How do you handle forms in Flask\n",
        "from flask import Flask, render_template, request\n",
        "\n",
        "app = Flask(__name__)\n",
        "\n",
        "@app.route('/', methods=['GET', 'POST'])\n",
        "def form():\n",
        "    if request.method == 'POST':\n",
        "        name = request.form['name']\n",
        "        return f'Hello, {name}!'\n",
        "    return render_template('form.html')\n",
        "\n",
        "if __name__ == '__main__':\n",
        "    app.run(debug=True)\n"
      ],
      "metadata": {
        "colab": {
          "base_uri": "https://localhost:8080/"
        },
        "id": "MF7QYEP4B7Sw",
        "outputId": "b5bcec4f-77e9-48fc-8d55-6f4130170f5c"
      },
      "execution_count": 8,
      "outputs": [
        {
          "metadata": {
            "tags": null
          },
          "name": "stdout",
          "output_type": "stream",
          "text": [
            " * Serving Flask app '__main__'\n",
            " * Debug mode: on\n"
          ]
        },
        {
          "metadata": {
            "tags": null
          },
          "name": "stderr",
          "output_type": "stream",
          "text": [
            "INFO:werkzeug:\u001b[31m\u001b[1mWARNING: This is a development server. Do not use it in a production deployment. Use a production WSGI server instead.\u001b[0m\n",
            " * Running on http://127.0.0.1:5000\n",
            "INFO:werkzeug:\u001b[33mPress CTRL+C to quit\u001b[0m\n",
            "INFO:werkzeug: * Restarting with stat\n"
          ]
        }
      ]
    },
    {
      "cell_type": "code",
      "source": [
        "#Que 7  How can you validate form data in Flask\n",
        "from flask import Flask, render_template, request, flash, redirect, url_for\n",
        "\n",
        "app = Flask(__name__)\n",
        "app.secret_key = 'your_secret_key'\n",
        "\n",
        "@app.route('/', methods=['GET', 'POST'])\n",
        "def form():\n",
        "    if request.method == 'POST':\n",
        "        name = request.form.get('name')\n",
        "        if not name:\n",
        "            flash('Name is required!')\n",
        "            return redirect(url_for('form'))\n",
        "        return f'<h1>Hello, {name}!</h1>'\n",
        "    return render_template('form.html')\n",
        "\n",
        "if __name__ == '__main__':\n",
        "    app.run(debug=True)\n"
      ],
      "metadata": {
        "id": "k381COqOB7HE"
      },
      "execution_count": null,
      "outputs": []
    },
    {
      "cell_type": "code",
      "source": [
        "#Que 8 How do you redirect to a different route in Flask\n",
        "from flask import Flask, redirect, url_for\n",
        "\n",
        "app = Flask(__name__)\n",
        "\n",
        "@app.route('/')\n",
        "def home():\n",
        "    return redirect(url_for('dashboard'))\n",
        "\n",
        "@app.route('/dashboard')\n",
        "def dashboard():\n",
        "    return 'Welcome to the dashboard!'\n",
        "\n",
        "if __name__ == '__main__':\n",
        "    app.run(debug=True)\n"
      ],
      "metadata": {
        "id": "zXl7jIulB64r"
      },
      "execution_count": null,
      "outputs": []
    },
    {
      "cell_type": "code",
      "source": [
        "#Que 9 How do you handle errors in Flask (e.g., 404)\n",
        "from flask import Flask, render_template\n",
        "\n",
        "app = Flask(__name__)\n",
        "\n",
        "@app.errorhandler(404)\n",
        "def page_not_found(e):\n",
        "    return render_template('404.html'), 404\n",
        "\n",
        "@app.route('/')\n",
        "def home():\n",
        "    return 'Home Page'\n",
        "\n",
        "if __name__ == '__main__':\n",
        "    app.run(debug=True)\n",
        ""
      ],
      "metadata": {
        "id": "_yEDutgSL3UQ"
      },
      "execution_count": null,
      "outputs": []
    },
    {
      "cell_type": "code",
      "source": [
        "#Que 11 How do you structure a Flask app using Blueprints4"
      ],
      "metadata": {
        "id": "3TAdijYgL3Q6"
      },
      "execution_count": null,
      "outputs": []
    },
    {
      "cell_type": "code",
      "source": [
        "#Que12 How do you define a custom Jinja filter in Flask\n",
        "from flask import Flask\n",
        "\n",
        "app = Flask(__name__)\n",
        "\n",
        "@app.template_filter('reverse')\n",
        "def reverse_filter(s):\n",
        "    return s[::-1]\n",
        "\n",
        "@app.route('/')\n",
        "def index():\n",
        "    return '''{{ \"Hello\" | reverse }}'''\n",
        "\n",
        "if __name__ == '__main__':\n",
        "    app.run(debug=True)\n"
      ],
      "metadata": {
        "id": "X-ZW3TqsL3OB"
      },
      "execution_count": null,
      "outputs": []
    },
    {
      "cell_type": "code",
      "source": [
        "#Que 13 How can you redirect with query parameters in Flask\n",
        "from flask import Flask, redirect, url_for, request\n",
        "\n",
        "app = Flask(__name__)\n",
        "\n",
        "@app.route('/')\n",
        "def home():\n",
        "    return redirect(url_for('greet', name='John'))\n",
        "\n",
        "@app.route('/greet')\n",
        "def greet():\n",
        "    name = request.args.get('name')\n",
        "    return f'Hello, {name}!'\n",
        "\n",
        "if __name__ == '__main__':\n",
        "    app.run(debug=True)\n"
      ],
      "metadata": {
        "id": "r_3SgtMNL3LA"
      },
      "execution_count": null,
      "outputs": []
    },
    {
      "cell_type": "code",
      "source": [
        "#Que 14  How do you return JSON responses in Flask\n",
        "from flask import Flask, jsonify\n",
        "\n",
        "app = Flask(__name__)\n",
        "\n",
        "@app.route('/data')\n",
        "def data():\n",
        "    return jsonify({'name': 'Alice', 'age': 30})\n",
        "\n",
        "if __name__ == '__main__':\n",
        "    app.run(debug=True)\n"
      ],
      "metadata": {
        "id": "VSeKAqrINol2"
      },
      "execution_count": null,
      "outputs": []
    },
    {
      "cell_type": "code",
      "source": [
        "#Que 15 How do you capture URL parameters in Flask\n",
        "from flask import Flask\n",
        "\n",
        "app = Flask(__name__)\n",
        "\n",
        "@app.route('/user/<username>')\n",
        "def show_user(username):\n",
        "    return f'Hello, {username}!'\n",
        "\n",
        "if __name__ == '__main__':\n",
        "    app.run(debug=True)\n"
      ],
      "metadata": {
        "id": "-7F0_jgKNoTe"
      },
      "execution_count": null,
      "outputs": []
    }
  ]
}